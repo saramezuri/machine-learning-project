{
 "cells": [
  {
   "cell_type": "code",
   "execution_count": 1,
   "metadata": {},
   "outputs": [
    {
     "name": "stdout",
     "output_type": "stream",
     "text": [
      "Text file converted to CSV successfully!\n"
     ]
    }
   ],
   "source": [
    "import os\n",
    "import csv\n",
    "import pandas as pd\n",
    "\n",
    "# Step 1: Set the working directory\n",
    "os.chdir('C:/Users/saram/Desktop/Fall 2024/CSI 5170/Project/')  \n",
    "\n",
    "# Step 2: Read the text file\n",
    "with open('stock_data.txt', 'r') as file:\n",
    "    lines = file.readlines()\n",
    "\n",
    "# Step 3: Process the data (assuming space-delimited data)\n",
    "data = [line.strip().split() for line in lines]\n",
    "\n",
    "# Step 4: Write to a CSV file\n",
    "with open('output.csv', 'w', newline='') as csvfile:\n",
    "    writer = csv.writer(csvfile)\n",
    "    writer.writerows(data)\n",
    "\n",
    "print(\"Text file converted to CSV successfully!\")\n"
   ]
  },
  {
   "cell_type": "code",
   "execution_count": 4,
   "metadata": {},
   "outputs": [
    {
     "name": "stdout",
     "output_type": "stream",
     "text": [
      "Columns added and CSV updated successfully!\n"
     ]
    }
   ],
   "source": [
    "import pandas as pd\n",
    "\n",
    "# Step 1: Read the CSV file into a DataFrame\n",
    "df = pd.read_csv('output.csv', header=None)  # Assuming no header in the original file\n",
    "\n",
    "# Step 2: Add column names (e.g., \"Column1\", \"Column2\", etc.)\n",
    "df.columns = ['symbol', 'date', 'open', 'close', 'high', 'low', 'volume']  # Adjust the number of columns based on your data\n",
    "\n",
    "# Step 4: Save the updated DataFrame to a new CSV file\n",
    "df.to_csv('stock_data.csv', index=False)\n",
    "\n",
    "print(\"Columns added and CSV updated successfully!\")\n"
   ]
  }
 ],
 "metadata": {
  "kernelspec": {
   "display_name": "erdos_fall_2024",
   "language": "python",
   "name": "python3"
  },
  "language_info": {
   "codemirror_mode": {
    "name": "ipython",
    "version": 3
   },
   "file_extension": ".py",
   "mimetype": "text/x-python",
   "name": "python",
   "nbconvert_exporter": "python",
   "pygments_lexer": "ipython3",
   "version": "3.12.5"
  }
 },
 "nbformat": 4,
 "nbformat_minor": 2
}
