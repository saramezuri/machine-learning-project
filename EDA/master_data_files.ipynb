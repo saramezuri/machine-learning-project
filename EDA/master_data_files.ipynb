{
 "cells": [
  {
   "cell_type": "markdown",
   "metadata": {},
   "source": [
    "# Master file EDA\n",
    "\n",
    "### Author Sara Mezuri\n",
    "\n",
    "The collected stock datasets for NDX and SP500 do not include data for weekends, whereas the sentiment dataset contains news and tweet data for weekends. Therefore, we aim to create a master dataset that includes both stock and sentiment data from September 2024 to January 2015, but restricted to weekdays only."
   ]
  },
  {
   "cell_type": "code",
   "execution_count": 1,
   "metadata": {},
   "outputs": [],
   "source": [
    "# Importing the Packages\n",
    "\n",
    "import numpy as np\n",
    "import pandas as pd\n",
    "import matplotlib.pyplot as plt\n",
    "import seaborn as sns\n",
    "import sklearn\n",
    "import seaborn as sns\n",
    "import warnings\n",
    "warnings.filterwarnings(\"ignore\")\n",
    "sns.set()"
   ]
  },
  {
   "cell_type": "code",
   "execution_count": null,
   "metadata": {},
   "outputs": [],
   "source": [
    "# Import the master data\n",
    "master = pd.read_excel(\"../Data/master_data.xlsx\")\n",
    "\n",
    "# Check the last 15 rows\n",
    "master.tail(n=15) \n",
    "\n",
    "\n",
    "# Iterative loop to check mismatches and delete scores\n",
    "for index, row in master.iterrows():\n",
    "    if row[\"Date_1\"] != row[\"Date_2\"]:\n",
    "        # Set the sentiment scores to None (or NaN)\n",
    "        master.loc[index, [\"NDX_News_Sentiment_Score\", \"NDX_Twitter_Sentiment_Score\"]] = None\n",
    "        print(f\"Mismatch found at index {index}, clearing sentiment scores...\")\n",
    "\n",
    "# Display the updated DataFrame\n",
    "print(\"\\nUpdated DataFrame:\")\n",
    "print(master)"
   ]
  }
 ],
 "metadata": {
  "kernelspec": {
   "display_name": "erdos_fall_2024",
   "language": "python",
   "name": "python3"
  },
  "language_info": {
   "codemirror_mode": {
    "name": "ipython",
    "version": 3
   },
   "file_extension": ".py",
   "mimetype": "text/x-python",
   "name": "python",
   "nbconvert_exporter": "python",
   "pygments_lexer": "ipython3",
   "version": "3.12.5"
  }
 },
 "nbformat": 4,
 "nbformat_minor": 2
}
